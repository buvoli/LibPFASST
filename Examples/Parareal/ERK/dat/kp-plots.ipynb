{
 "cells": [
  {
   "cell_type": "code",
   "execution_count": null,
   "metadata": {},
   "outputs": [],
   "source": [
    "import json\n",
    "import numpy as np\n",
    "from matplotlib import pyplot as plt\n",
    "from scipy.io import savemat"
   ]
  },
  {
   "cell_type": "code",
   "execution_count": null,
   "metadata": {},
   "outputs": [],
   "source": [
    "pStr = lambda p : \"{:04.0f}\".format(p)\n",
    "\n",
    "# File Paths (Parareal Solution)\n",
    "PpDir = lambda Ng, k , pTot, p : f\"kp/parareal-ng-{Ng}-k-{k}-P{pStr(pTot)}/Proc_{pStr(p)}\"\n",
    "ParSolFile = lambda Ng, k, pTot, p : f\"{PpDir(Ng, k, pTot, p)}/yend.npy\" \n",
    "ParTimingFile = lambda Ng, k, pTot, p : f\"{PpDir(Ng, k, pTot, p)}/runtime.json\" \n",
    "\n",
    "# File Paths (Serial RK - Fine)\n",
    "ERKFinepDir = f\"kp/serial-fine-P{pStr(1)}/Proc_{pStr(0)}\"\n",
    "ERKFineSolFile = f\"{ERKFinepDir}/yend.npy\"\n",
    "ERKFineTimingFile = f\"{ERKFinepDir}/runtime.json\"\n",
    "\n",
    "# File Paths (Serial RK -- Reference)\n",
    "ERKRefpDir = f\"kp/serial-ref-P{pStr(1)}/Proc_{pStr(0)}\"\n",
    "ERKRefSolFile = f\"{ERKRefpDir}/yend.npy\"\n",
    "ERKRefTimingFile = f\"{ERKRefpDir}/runtime.json\"\n",
    "\n",
    "def extractTotalTime(timing_filepath):\n",
    "    f = open(timing_filepath)\n",
    "    data = json.load(f)\n",
    "    f.close()\n",
    "    return data[\"total\"]"
   ]
  },
  {
   "cell_type": "code",
   "execution_count": null,
   "metadata": {},
   "outputs": [],
   "source": [
    "# Experiment Parameters\n",
    "Ngs = np.arange(1,4)\n",
    "ks = np.arange(0,29)\n",
    "pTot = 1\n",
    "pFin = pTot - 1\n",
    "\n",
    "error_norm = lambda sol, ref : np.linalg.norm(sol.flatten() - ref.flatten(), np.inf) / np.linalg.norm(ref.flatten(), np.inf)"
   ]
  },
  {
   "cell_type": "code",
   "execution_count": null,
   "metadata": {},
   "outputs": [],
   "source": [
    "# Compute Errors \n",
    "y_ref = np.load(ERKRefSolFile)\n",
    "y_fine = np.load(ERKFineSolFile)\n",
    "\n",
    "errors_parareal = np.zeros((ks.size, Ngs.size))\n",
    "for j in range(0, Ngs.size):\n",
    "    for i in range(0, ks.size):\n",
    "        y_par = np.load(ParSolFile(Ngs[j],ks[i], pTot, pFin))\n",
    "        errors_parareal[i,j] = error_norm(y_par, y_ref)\n",
    "\n",
    "error_fine = error_norm(y_fine, y_ref)"
   ]
  },
  {
   "cell_type": "code",
   "execution_count": null,
   "metadata": {},
   "outputs": [],
   "source": [
    "# Compute Times\n",
    "time_ref = extractTotalTime(ERKFineTimingFile)\n",
    "time_fine = extractTotalTime(ERKFineTimingFile)\n",
    "\n",
    "times_parareal = np.zeros((ks.size, Ngs.size))\n",
    "for j in range(0, Ngs.size):\n",
    "    for i in range(0, ks.size):\n",
    "        times_parareal[i,j] = extractTotalTime(ParTimingFile(Ngs[j],ks[i], pTot, pFin))\n",
    "    \n",
    "speedup = time_fine / times_parareal;\n",
    "savemat(f\"kp-speedup\", {\"speedup\" : speedup});"
   ]
  },
  {
   "cell_type": "code",
   "execution_count": null,
   "metadata": {},
   "outputs": [],
   "source": [
    "plt.semilogy(ks, errors_parareal)\n",
    "plt.title('Error vs Iteration')\n",
    "plt.show()"
   ]
  },
  {
   "cell_type": "code",
   "execution_count": null,
   "metadata": {},
   "outputs": [],
   "source": [
    "plt.plot(speedup) \n",
    "plt.title('Speedup')\n",
    "plt.show()"
   ]
  },
  {
   "cell_type": "code",
   "execution_count": null,
   "metadata": {
    "tags": []
   },
   "outputs": [],
   "source": [
    "plt.plot(ks, times_parareal)\n",
    "plt.plot(ks, time_fine * np.ones(ks.shape))\n",
    "plt.title(\"Time vs Iteration\")\n",
    "plt.show()"
   ]
  },
  {
   "cell_type": "code",
   "execution_count": null,
   "metadata": {
    "tags": []
   },
   "outputs": [],
   "source": [
    "plt.plot(np.real(y_ref)) \n",
    "plt.title('Final Solution')\n",
    "plt.show()"
   ]
  }
 ],
 "metadata": {
  "kernelspec": {
   "display_name": "Python 3",
   "language": "python",
   "name": "python3"
  },
  "language_info": {
   "codemirror_mode": {
    "name": "ipython",
    "version": 3
   },
   "file_extension": ".py",
   "mimetype": "text/x-python",
   "name": "python",
   "nbconvert_exporter": "python",
   "pygments_lexer": "ipython3",
   "version": "3.9.7"
  }
 },
 "nbformat": 4,
 "nbformat_minor": 4
}
