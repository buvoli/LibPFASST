{
 "cells": [
  {
   "cell_type": "code",
   "execution_count": null,
   "metadata": {},
   "outputs": [],
   "source": [
    "import json\n",
    "import numpy as np\n",
    "from matplotlib import pyplot as plt\n",
    "from scipy.io import savemat\n",
    "from matplotlib import cm"
   ]
  },
  {
   "cell_type": "code",
   "execution_count": null,
   "metadata": {},
   "outputs": [],
   "source": [
    "pStr = lambda p : \"{:04.0f}\".format(p)\n",
    "\n",
    "# File Paths (Parareal Solution)\n",
    "PpDir = lambda Ng, k , pTot, p : f\"vp/parareal-ng-{Ng}-k-{k}-P{pStr(pTot)}/Proc_{pStr(p)}\"\n",
    "ParSolFile = lambda Ng, k, pTot, p : f\"{PpDir(Ng, k, pTot, p)}/yend.npy\" \n",
    "ParTimingFile = lambda Ng, k, pTot, p : f\"{PpDir(Ng, k, pTot, p)}/runtime.json\" \n",
    "\n",
    "# File Paths (Serial RK - Fine)\n",
    "ERKFinepDir = f\"vp/serial-fine-P{pStr(1)}/Proc_{pStr(0)}\"\n",
    "ERKFineSolFile = f\"{ERKFinepDir}/yend.npy\"\n",
    "ERKFineTimingFile = f\"{ERKFinepDir}/runtime.json\"\n",
    "\n",
    "# File Paths (Serial RK -- Reference)\n",
    "ERKRefpDir = f\"vp/serial-ref-P{pStr(1)}/Proc_{pStr(0)}\"\n",
    "ERKRefSolFile = f\"{ERKRefpDir}/yend.npy\"\n",
    "ERKRefTimingFile = f\"{ERKRefpDir}/runtime.json\"\n",
    "\n",
    "def extractTotalTime(timing_filepath):\n",
    "    f = open(timing_filepath)\n",
    "    data = json.load(f)\n",
    "    f.close()\n",
    "    return data[\"total\"]"
   ]
  },
  {
   "cell_type": "code",
   "execution_count": null,
   "metadata": {},
   "outputs": [],
   "source": [
    "# Experiment Parameters\n",
    "Ngs = np.arange(1,4)\n",
    "ks = np.arange(0,12)\n",
    "pTot = 1\n",
    "pFin = pTot - 1\n",
    "\n",
    "sol2Realspace = lambda sol : np.real(np.fft.ifft(sol, n=None, axis=0)) # transform in x and take real part\n",
    "solNorm = lambda sol : np.linalg.norm(sol2Realspace(sol).flatten()) # flatten and inf norm\n",
    "errorNorm = lambda sol, ref : solNorm(sol - ref) / solNorm(ref)"
   ]
  },
  {
   "cell_type": "code",
   "execution_count": null,
   "metadata": {},
   "outputs": [],
   "source": [
    "# Compute Errors \n",
    "y_ref = np.load(ERKRefSolFile)\n",
    "y_fine = np.load(ERKFineSolFile)\n",
    "\n",
    "errors_parareal = np.zeros((ks.size, Ngs.size))\n",
    "for j in range(0, Ngs.size):\n",
    "    for i in range(0, ks.size):\n",
    "        y_par = np.load(ParSolFile(Ngs[j],ks[i], pTot, pFin))\n",
    "        errors_parareal[i,j] = errorNorm(y_par, y_ref)\n",
    "\n",
    "error_fine = errorNorm(y_fine, y_ref)"
   ]
  },
  {
   "cell_type": "code",
   "execution_count": null,
   "metadata": {},
   "outputs": [],
   "source": [
    "# Compute Times\n",
    "time_ref = extractTotalTime(ERKFineTimingFile)\n",
    "time_fine = extractTotalTime(ERKFineTimingFile)\n",
    "\n",
    "times_parareal = np.zeros((ks.size, Ngs.size))\n",
    "for j in range(0, Ngs.size):\n",
    "    for i in range(0, ks.size):\n",
    "        times_parareal[i,j] = extractTotalTime(ParTimingFile(Ngs[j],ks[i], pTot, pFin))\n",
    "    \n",
    "speedup = time_fine / times_parareal;\n",
    "savemat(f\"vp-speedup\", {\"speedup\" : speedup});"
   ]
  },
  {
   "cell_type": "code",
   "execution_count": null,
   "metadata": {},
   "outputs": [],
   "source": [
    "plt.semilogy(ks, errors_parareal)\n",
    "plt.semilogy(ks[[0, -1]], error_fine * np.array([1, 1]), 'k--')\n",
    "plt.title('Error vs Iteration')\n",
    "plt.show()"
   ]
  },
  {
   "cell_type": "code",
   "execution_count": null,
   "metadata": {},
   "outputs": [],
   "source": [
    "plt.plot(speedup) \n",
    "plt.title('Speedup')\n",
    "plt.show()"
   ]
  },
  {
   "cell_type": "code",
   "execution_count": null,
   "metadata": {
    "tags": []
   },
   "outputs": [],
   "source": [
    "plt.plot(ks, times_parareal)\n",
    "plt.plot(ks, time_fine * np.ones(ks.shape), 'k--')\n",
    "plt.title(\"Time vs Iteration\")\n",
    "plt.show()"
   ]
  },
  {
   "cell_type": "code",
   "execution_count": null,
   "metadata": {
    "tags": []
   },
   "outputs": [],
   "source": [
    "fig, ax = plt.subplots(subplot_kw={\"projection\": \"3d\"})\n",
    "\n",
    "X = np.linspace(0, 8*np.pi,y_ref.shape[1])\n",
    "Y = np.linspace(-8*np.pi, 8*np.pi,y_ref.shape[0])\n",
    "X, Y = np.meshgrid(X, Y)\n",
    "\n",
    "surf = ax.plot_surface(X,Y, sol2Realspace(y_ref), cmap=cm.coolwarm,linewidth=0,rstride=1,cstride=1)#,rstride=10,cstride=10)\n",
    "ax.view_init(elev=90., azim=0)"
   ]
  }
 ],
 "metadata": {
  "kernelspec": {
   "display_name": "Python 3",
   "language": "python",
   "name": "python3"
  },
  "language_info": {
   "codemirror_mode": {
    "name": "ipython",
    "version": 3
   },
   "file_extension": ".py",
   "mimetype": "text/x-python",
   "name": "python",
   "nbconvert_exporter": "python",
   "pygments_lexer": "ipython3",
   "version": "3.9.7"
  }
 },
 "nbformat": 4,
 "nbformat_minor": 4
}
